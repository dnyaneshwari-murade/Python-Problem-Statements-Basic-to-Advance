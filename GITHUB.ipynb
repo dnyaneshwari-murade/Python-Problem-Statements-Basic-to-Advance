{
 "cells": [
  {
   "cell_type": "markdown",
   "id": "7f542767-67f8-4a77-b27b-f33b7fd501e4",
   "metadata": {},
   "source": [
    "### write a program to check whether a number entered is three digit number or not"
   ]
  },
  {
   "cell_type": "code",
   "execution_count": 119,
   "id": "db3afbde-fd63-44ec-95d1-8b55ad73738c",
   "metadata": {},
   "outputs": [
    {
     "name": "stdin",
     "output_type": "stream",
     "text": [
      "Enter the number:  567\n"
     ]
    },
    {
     "name": "stdout",
     "output_type": "stream",
     "text": [
      "The number 567 is three digit number\n"
     ]
    }
   ],
   "source": [
    "\n",
    "number = int(input(\"Enter the number: \"))\n",
    "\n",
    "number = str(number)\n",
    "digit = 0\n",
    "for i in number:\n",
    "    digit +=1\n",
    "\n",
    "if digit == 3:\n",
    "    print(f\"The number {number} is three digit number\")\n",
    "else:\n",
    "    print(f\"The number {number} is not a three digit number\")\n",
    "    \n"
   ]
  },
  {
   "cell_type": "markdown",
   "id": "7340b5f6-74cb-4622-ba39-7d7748e37ce6",
   "metadata": {},
   "source": [
    "### Write a program to check vowels in given string"
   ]
  },
  {
   "cell_type": "code",
   "execution_count": 120,
   "id": "6e7d6cd3-ee4c-49ee-b14c-1dbf8a34fb02",
   "metadata": {},
   "outputs": [
    {
     "name": "stdin",
     "output_type": "stream",
     "text": [
      "Enter a name:  uguifryswa5\n"
     ]
    },
    {
     "name": "stdout",
     "output_type": "stream",
     "text": [
      "The vowels present are: u, u, i, a\n"
     ]
    }
   ],
   "source": [
    "name = input(\"Enter a name: \")\n",
    "vowel = ['a', 'e', 'i', 'o', 'u']\n",
    "\n",
    "vowels_present =\"\"\n",
    "\n",
    "for i in name:\n",
    "    if i in vowel:\n",
    "        if vowels_present:\n",
    "            vowels_present += \", \"\n",
    "        vowels_present += i\n",
    "\n",
    "print(f\"The vowels present are: {vowels_present}\")\n",
    "\n"
   ]
  },
  {
   "cell_type": "markdown",
   "id": "f3e7752e-af92-4ce1-8c16-da4b6d9bf773",
   "metadata": {},
   "source": [
    "### Write a problem that will write numbers in reverse order"
   ]
  },
  {
   "cell_type": "code",
   "execution_count": 121,
   "id": "17d502e0-00c7-48aa-a219-b2dc1b75bc59",
   "metadata": {},
   "outputs": [
    {
     "name": "stdin",
     "output_type": "stream",
     "text": [
      "Enter the number:  6\n"
     ]
    },
    {
     "name": "stdout",
     "output_type": "stream",
     "text": [
      "6\n",
      "5\n",
      "4\n",
      "3\n",
      "2\n",
      "1\n"
     ]
    }
   ],
   "source": [
    "# using for loop\n",
    "number = int(input(\"Enter the number: \"))\n",
    "\n",
    "for i in range(number,0,-1):\n",
    "    print(i)\n",
    "    \n",
    "    "
   ]
  },
  {
   "cell_type": "code",
   "execution_count": 122,
   "id": "73cb9339-4dfd-416c-9c56-e51d872c12bb",
   "metadata": {},
   "outputs": [
    {
     "name": "stdin",
     "output_type": "stream",
     "text": [
      "Enter the number: 6\n"
     ]
    },
    {
     "name": "stdout",
     "output_type": "stream",
     "text": [
      "6\n",
      "5\n",
      "4\n",
      "3\n",
      "2\n",
      "1\n"
     ]
    }
   ],
   "source": [
    "# using while loop\n",
    "number = int(input(\"Enter the number:\"))\n",
    "\n",
    "while number >0:\n",
    "    print(number)\n",
    "    number-= 1\n",
    "    "
   ]
  },
  {
   "cell_type": "markdown",
   "id": "5cd21684-d92d-4527-8cf0-bcf7d7fcde94",
   "metadata": {},
   "source": [
    "### print all even numbers between 1 to n \n"
   ]
  },
  {
   "cell_type": "code",
   "execution_count": 123,
   "id": "f0b0b2a9-dc5b-42d9-9320-ee290ac20be2",
   "metadata": {},
   "outputs": [
    {
     "name": "stdin",
     "output_type": "stream",
     "text": [
      "Enter the number: 6\n"
     ]
    },
    {
     "name": "stdout",
     "output_type": "stream",
     "text": [
      "6\n",
      "4\n",
      "2\n",
      "0\n"
     ]
    }
   ],
   "source": [
    "#using while loop\n",
    "n = int(input(\"Enter the number:\"))\n",
    "\n",
    "while n>=0:\n",
    "    if n %2==0:\n",
    "        print(n)\n",
    "    n-=1"
   ]
  },
  {
   "cell_type": "code",
   "execution_count": 124,
   "id": "1b5d7c19-9874-4cc1-bf70-7d18d79d9066",
   "metadata": {},
   "outputs": [
    {
     "name": "stdin",
     "output_type": "stream",
     "text": [
      "Enter the number 6\n"
     ]
    },
    {
     "name": "stdout",
     "output_type": "stream",
     "text": [
      "0\n",
      "2\n",
      "4\n",
      "6\n"
     ]
    }
   ],
   "source": [
    "# using for loop\n",
    "n = int(input(\"Enter the number\"))\n",
    "\n",
    "for i in range(0,n+1):\n",
    "    if i%2 == 0:\n",
    "        print(i)\n",
    "    else:\n",
    "        pass"
   ]
  },
  {
   "cell_type": "markdown",
   "id": "6594e3da-0157-4052-83bd-e377c649041a",
   "metadata": {},
   "source": [
    "### print all the small case and upper case alphabets"
   ]
  },
  {
   "cell_type": "code",
   "execution_count": 125,
   "id": "4f9687fc-e0eb-414f-afb9-b1167517b7fe",
   "metadata": {},
   "outputs": [
    {
     "name": "stdout",
     "output_type": "stream",
     "text": [
      "a b c d e f g h i j k l m n o p q r s t u v w x y z \n",
      "\n",
      "A B C D E F G H I J K L M N O P Q R S T U V W X Y Z "
     ]
    }
   ],
   "source": [
    "for i in range(97, 123):\n",
    "    print(chr(i), end=\" \")  \n",
    "    \n",
    "print(\"\\n\")\n",
    "\n",
    "for i in range(65,ord('Z')+1):\n",
    "    print(chr(i),end = \" \")"
   ]
  },
  {
   "cell_type": "markdown",
   "id": "e9dafe18-eb8b-42ad-a93b-6e00737a98d6",
   "metadata": {},
   "source": [
    "### Find out the factorial of the number"
   ]
  },
  {
   "cell_type": "code",
   "execution_count": 126,
   "id": "ebd5e31d-b717-486e-a197-636ad13eb306",
   "metadata": {},
   "outputs": [
    {
     "name": "stdin",
     "output_type": "stream",
     "text": [
      " 6\n"
     ]
    },
    {
     "name": "stdout",
     "output_type": "stream",
     "text": [
      "The factorial of the number is 720\n"
     ]
    }
   ],
   "source": [
    "n = int(input())\n",
    "\n",
    "\n",
    "if n<0:\n",
    "    print(f\"You cannot find factorial for the negative number { n}\")\n",
    "elif n == 0:\n",
    "    print(f\"The factorial of the number { n} is 1\")\n",
    "else:\n",
    "    fact = 1\n",
    "    for i in range(1,n+1):\n",
    "        fact*=i\n",
    "    \n",
    "\n",
    "    print(f\"The factorial of the number is {fact}\")\n",
    "        \n",
    "    "
   ]
  },
  {
   "cell_type": "markdown",
   "id": "2b7fc34b-22b5-43fc-933a-b3507d82f0b1",
   "metadata": {},
   "source": [
    "### Write a program that prints the first N numbers of the Fibonacci sequence (0, 1, 1, 2, 3, 5, ...)."
   ]
  },
  {
   "cell_type": "code",
   "execution_count": 139,
   "id": "edeb3b5a-f316-4a85-ba7d-7e01ea50e94a",
   "metadata": {},
   "outputs": [
    {
     "name": "stdin",
     "output_type": "stream",
     "text": [
      "Enter the number of terms:  5\n"
     ]
    },
    {
     "name": "stdout",
     "output_type": "stream",
     "text": [
      "Fibonacci sequence: [0, 1, 1, 2, 3]\n"
     ]
    }
   ],
   "source": [
    "# Based on number of terms\n",
    "\n",
    "n = int(input(\"Enter the number of terms: \"))\n",
    "\n",
    "final_sequence = [0,1]  \n",
    "\n",
    "if n < 0:\n",
    "    print(f\"You cannot find Fibonacci sequence for a negative number {n}\")\n",
    "elif n == 0:\n",
    "    print(f\"The Fibonacci sequence for zero is: 0\")\n",
    "elif n == 1:\n",
    "    print(f\"The Fibonacci sequence is: 1\")\n",
    "else:\n",
    "    for i in range(2, n):\n",
    "        \n",
    "        next_term = final_sequence[-1] + final_sequence[-2]  \n",
    "        final_sequence.append(next_term)\n",
    "    \n",
    "    print(f\"Fibonacci sequence: {fibonacci_sequence[:n]}\")\n"
   ]
  },
  {
   "cell_type": "code",
   "execution_count": null,
   "id": "f64515ab-751b-49ec-9857-f5a96b9905b1",
   "metadata": {},
   "outputs": [],
   "source": []
  },
  {
   "cell_type": "code",
   "execution_count": null,
   "id": "98575c15-fd3d-4ff5-8bb7-83b14c41c845",
   "metadata": {},
   "outputs": [],
   "source": []
  }
 ],
 "metadata": {
  "kernelspec": {
   "display_name": "Python 3 (ipykernel)",
   "language": "python",
   "name": "python3"
  },
  "language_info": {
   "codemirror_mode": {
    "name": "ipython",
    "version": 3
   },
   "file_extension": ".py",
   "mimetype": "text/x-python",
   "name": "python",
   "nbconvert_exporter": "python",
   "pygments_lexer": "ipython3",
   "version": "3.10.4"
  }
 },
 "nbformat": 4,
 "nbformat_minor": 5
}
